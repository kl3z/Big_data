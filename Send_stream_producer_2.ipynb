{
 "cells": [
  {
   "cell_type": "code",
   "execution_count": 0,
   "metadata": {
    "application/vnd.databricks.v1+cell": {
     "cellMetadata": {
      "byteLimit": 2048000,
      "rowLimit": 10000
     },
     "inputWidgets": {},
     "nuid": "8f630de0-6983-4e22-a610-a7e7074f8c4d",
     "showTitle": false,
     "tableResultSettingsMap": {},
     "title": ""
    }
   },
   "outputs": [],
   "source": [
    "from pyspark.sql.functions import *\n",
    "from pyspark.sql.types import *\n",
    "from pyspark.sql.functions import col, split, udf, struct\n",
    "from pyspark.sql.types import FloatType\n",
    "from pyspark.sql.functions import monotonically_increasing_id\n",
    "from pyspark.sql.functions import struct"
   ]
  },
  {
   "cell_type": "code",
   "execution_count": 0,
   "metadata": {
    "application/vnd.databricks.v1+cell": {
     "cellMetadata": {
      "byteLimit": 2048000,
      "rowLimit": 10000
     },
     "inputWidgets": {},
     "nuid": "41779ae8-4aaf-4917-a885-29b62c52ffc7",
     "showTitle": false,
     "tableResultSettingsMap": {},
     "title": ""
    }
   },
   "outputs": [],
   "source": [
    "USERNAME = \"big-data\"\n",
    "PASSWORD = \"rZ5PCb8ugPiuCm3xCW1oycmH01VNWE\""
   ]
  },
  {
   "cell_type": "code",
   "execution_count": 0,
   "metadata": {
    "application/vnd.databricks.v1+cell": {
     "cellMetadata": {
      "byteLimit": 2048000,
      "rowLimit": 10000
     },
     "inputWidgets": {},
     "nuid": "1b6dbb0b-1a56-46a2-9e84-ddbae8d0c656",
     "showTitle": false,
     "tableResultSettingsMap": {},
     "title": ""
    }
   },
   "outputs": [],
   "source": [
    "df = spark.read.parquet(\"dbfs:/FileStore/Trabalho/transactions.parquet\")"
   ]
  },
  {
   "cell_type": "code",
   "execution_count": 0,
   "metadata": {
    "application/vnd.databricks.v1+cell": {
     "cellMetadata": {
      "byteLimit": 2048000,
      "rowLimit": 10000
     },
     "inputWidgets": {},
     "nuid": "b683422a-9f2c-470c-8b52-79efcc8b24f2",
     "showTitle": false,
     "tableResultSettingsMap": {},
     "title": ""
    }
   },
   "outputs": [],
   "source": [
    "def converttoeuro(amount, currency):\n",
    "    exchangerates = {\"USD\": 1.05,\"GBP\": 0.83,\"EUR\": 1.0,\"JPY\": 161.36, 'CAD':0.83,'RUB':109.67, 'BRL': 6.34,'AUD': 1.64,'MXN': 21.13,'NGN':1625.22, 'SGD':1.41 }\n",
    "    return amount * exchangerates.get(currency, 1.0)\n",
    "converttoeuroudf = udf(converttoeuro, FloatType())\n",
    "df = df.withColumn(\"amounteuro\", converttoeuroudf(df['amount'], df['currency']))\n",
    "df = df.withColumn(\"time\", split(col(\"timestamp\"), \" \")[1].substr(0, 15))\n",
    "df = df.withColumn(\"card_present\", col(\"card_present\").cast(\"int\")) \\\n",
    "       .withColumn(\"is_fraud\", col(\"is_fraud\").cast(\"int\")) \\\n",
    "       .withColumn(\"currency\", col(\"currency\").cast(\"int\")) \\\n",
    "       .withColumn(\"city_size\", col(\"city_size\").cast(\"int\")) \\\n",
    "        .withColumn(\"time\", col(\"time\").cast(\"int\")) \\\n",
    "       .withColumn(\"channel\", col(\"channel\").cast(\"int\"))     \n",
    "df = df.drop('transaction_id','customer_id', 'card_number', 'merchant_category', \n",
    "             'merchant_type', 'merchant', 'card_type', 'device', 'device_fingerprint', \n",
    "             'high_risk_merchant', 'weekend_transaction','country', \"timestamp\", \n",
    "             \"transaction_hour\", \"city\", \"ip_address\", \"velocity_last_hour\", \"amount\")"
   ]
  },
  {
   "cell_type": "code",
   "execution_count": 0,
   "metadata": {
    "application/vnd.databricks.v1+cell": {
     "cellMetadata": {
      "byteLimit": 2048000,
      "rowLimit": 10000
     },
     "inputWidgets": {},
     "nuid": "7540d651-20fa-4440-be49-0e48035bbcec",
     "showTitle": false,
     "tableResultSettingsMap": {},
     "title": ""
    }
   },
   "outputs": [
    {
     "output_type": "stream",
     "name": "stdout",
     "output_type": "stream",
     "text": [
      "Out[5]: DataFrame[currency: int, city_size: int, card_present: int, channel: int, distance_from_home: bigint, is_fraud: int, amounteuro: float, time: int]"
     ]
    }
   ],
   "source": [
    "df"
   ]
  },
  {
   "cell_type": "code",
   "execution_count": 0,
   "metadata": {
    "application/vnd.databricks.v1+cell": {
     "cellMetadata": {
      "byteLimit": 2048000,
      "rowLimit": 10000
     },
     "inputWidgets": {},
     "nuid": "3c0ef2be-ee50-49e7-b33f-f9f4970bb939",
     "showTitle": false,
     "tableResultSettingsMap": {},
     "title": ""
    }
   },
   "outputs": [],
   "source": [
    "df=df.select(col(\"currency\").cast(\"int\"),col(\"city_size\").cast(\"int\"),col(\"card_present\").cast(\"string\"),col(\"channel\").cast(\"int\"),col(\"distance_from_home\").cast(\"int\"),col(\"amounteuro\").cast(\"float\"), col(\"time\").cast(\"int\"),col(\"is_fraud\").cast(\"string\"))"
   ]
  },
  {
   "cell_type": "code",
   "execution_count": 0,
   "metadata": {
    "application/vnd.databricks.v1+cell": {
     "cellMetadata": {
      "byteLimit": 2048000,
      "rowLimit": 10000
     },
     "inputWidgets": {},
     "nuid": "23cd4ba2-cf4f-4b25-b176-acf1e6263607",
     "showTitle": false,
     "tableResultSettingsMap": {},
     "title": ""
    }
   },
   "outputs": [],
   "source": [
    "df_with_parquet = df.withColumn(\"value\", struct([col for col in df.columns]))"
   ]
  },
  {
   "cell_type": "code",
   "execution_count": 0,
   "metadata": {
    "application/vnd.databricks.v1+cell": {
     "cellMetadata": {
      "byteLimit": 2048000,
      "rowLimit": 10000
     },
     "inputWidgets": {},
     "nuid": "c28f36fc-3a8e-4e94-9d7b-5385f9021ad8",
     "showTitle": false,
     "tableResultSettingsMap": {},
     "title": ""
    }
   },
   "outputs": [],
   "source": [
    "df_with_parquet=df_with_parquet.withColumn('value', to_json(struct([col for col in df_with_parquet.columns])))"
   ]
  },
  {
   "cell_type": "code",
   "execution_count": 0,
   "metadata": {
    "application/vnd.databricks.v1+cell": {
     "cellMetadata": {
      "byteLimit": 2048000,
      "rowLimit": 10000
     },
     "inputWidgets": {},
     "nuid": "6348dac8-0586-46f2-8cc0-bfbd7e89bc55",
     "showTitle": false,
     "tableResultSettingsMap": {},
     "title": ""
    }
   },
   "outputs": [],
   "source": [
    "df_with_parquet = df_with_parquet.withColumn('key', monotonically_increasing_id().cast('string'))"
   ]
  },
  {
   "cell_type": "code",
   "execution_count": 0,
   "metadata": {
    "application/vnd.databricks.v1+cell": {
     "cellMetadata": {
      "byteLimit": 2048000,
      "rowLimit": 10000
     },
     "inputWidgets": {},
     "nuid": "6ee3a331-f4d9-4192-9e0f-574c6e8772f8",
     "showTitle": false,
     "tableResultSettingsMap": {},
     "title": ""
    }
   },
   "outputs": [],
   "source": [
    "df_with_parquet = df_with_parquet.limit(10)"
   ]
  },
  {
   "cell_type": "code",
   "execution_count": 0,
   "metadata": {
    "application/vnd.databricks.v1+cell": {
     "cellMetadata": {
      "byteLimit": 2048000,
      "rowLimit": 10000
     },
     "inputWidgets": {},
     "nuid": "7b4cd418-5a0c-4ec7-b81b-93c815a68a4e",
     "showTitle": false,
     "tableResultSettingsMap": {},
     "title": ""
    }
   },
   "outputs": [],
   "source": [
    "\n",
    "df_with_parquet.write \\\n",
    "  .format(\"kafka\") \\\n",
    "  .option(\"kafka.bootstrap.servers\", \"ctvdvd2dt8sjp3bod5rg.any.eu-central-1.mpx.prd.cloud.redpanda.com:9092\") \\\n",
    "  .option(\"kafka.sasl.jaas.config\",\"kafkashaded.org.apache.kafka.common.security.scram.ScramLoginModule required username='{}' password='{}';\".format(USERNAME, PASSWORD)) \\\n",
    "  .option(\"kafka.ssl.endpoint.identification.algmorithm\", \"https\") \\\n",
    "  .option(\"kafka.security.protocol\", \"SASL_SSL\") \\\n",
    "  .option(\"kafka.sasl.mechanism\", \"SCRAM-SHA-512\") \\\n",
    "  .option(\"topic\", \"project\") \\\n",
    "  .save()"
   ]
  }
 ],
 "metadata": {
  "application/vnd.databricks.v1+notebook": {
   "computePreferences": null,
   "dashboards": [],
   "environmentMetadata": {
    "base_environment": "",
    "client": "1"
   },
   "language": "python",
   "notebookMetadata": {
    "pythonIndentUnit": 4
   },
   "notebookName": "Send_stream_producer",
   "widgets": {}
  }
 },
 "nbformat": 4,
 "nbformat_minor": 0
}
